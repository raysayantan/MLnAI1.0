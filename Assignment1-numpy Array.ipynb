{
 "cells": [
  {
   "cell_type": "markdown",
   "metadata": {},
   "source": [
    "FINANCIAL STATEMENT ANALYSIS\n",
    "\n",
    "Scenario: You are a Data Scientist working for a consulting firm. One of your\n",
    "colleagues from the Auditing department has asked you to help them assess the financial statement of organisation ABC.\n",
    "\n",
    "You have been supplied with two vectors/list of data: monthly revenue and monthly expenses for the financial year in question. \n",
    "\n",
    "Your task is to calculate the following financial metrics:\n",
    "- profit for each month\n",
    "- profit after tax for each month (the tax rate is 30%)\n",
    "- profit margin for each month - equals to profit after tax divided by revenue\n",
    "- good months - where the profit after tax was greater than the mean for the year\n",
    "- bad months - where the profit after tax was less than the mean for the year\n",
    "- the best month - where the profit after tax was max for the year\n",
    "- the worst month - where the profit after tax was min for the year\n",
    "\n",
    "\n",
    "All results need to be presented as vectors.\n",
    "Results for dollar values need to be calculated with $0.01 precision.\n",
    "Results for the profit margin ratio need to be presented in units of % with no\n",
    "decimal points.\n",
    "Note: Your colleague has warned you that it is okay for tax for any given month to be\n",
    "negative (in accounting terms, negative tax translates into a deferred tax asset).\n",
    "\n",
    "\n",
    "\n",
    "\n",
    "\n",
    "\n",
    "\n"
   ]
  },
  {
   "cell_type": "code",
   "execution_count": 22,
   "metadata": {},
   "outputs": [
    {
     "name": "stdout",
     "output_type": "stream",
     "text": [
      "[ 2522.67  1911.39 -3707.79 -2914.31  -599.92  7265.24  8210.55  3944.97\n",
      "  3328.39 -2238.65   659.6  11629.54]\n"
     ]
    }
   ],
   "source": [
    "import numpy as np\n",
    "revenue = [14574.49, 7606.46, 8611.41, 9175.41, 8058.65, 8105.44, 11496.28, 9766.09, 10305.32, 14379.96, 10713.97, 15433.50]\n",
    "expenses = [12051.82, 5695.07, 12319.20, 12089.72, 8658.57, 840.20, 3285.73, 5821.12, 6976.93, 16618.61, 10054.37, 3803.96]\n",
    "\n",
    "r = np.array(revenue)\n",
    "e = np.array(expenses)\n",
    "\n",
    "profit = r - e\n",
    "print(profit)"
   ]
  },
  {
   "cell_type": "code",
   "execution_count": 4,
   "metadata": {},
   "outputs": [
    {
     "name": "stdout",
     "output_type": "stream",
     "text": [
      "[ 1765.869  1337.973 -2595.453 -2040.017  -419.944  5085.668  5747.385\n",
      "  2761.479  2329.873 -1567.055   461.72   8140.678]\n"
     ]
    }
   ],
   "source": [
    "profitAfterTax = profit - profit*0.3\n",
    "print(profitAfterTax)"
   ]
  },
  {
   "cell_type": "code",
   "execution_count": 5,
   "metadata": {},
   "outputs": [
    {
     "name": "stdout",
     "output_type": "stream",
     "text": [
      "[ 0.12116163  0.17589956 -0.30139698 -0.22233524 -0.05211096  0.62743886\n",
      "  0.49993433  0.28276199  0.22608449 -0.10897492  0.04309514  0.52746804]\n"
     ]
    }
   ],
   "source": [
    "profitMargin = profitAfterTax/r\n",
    "print(profitMargin)\n"
   ]
  },
  {
   "cell_type": "code",
   "execution_count": 11,
   "metadata": {},
   "outputs": [
    {
     "name": "stdout",
     "output_type": "stream",
     "text": [
      "[1765.869 5085.668 5747.385 2761.479 2329.873 8140.678]\n"
     ]
    }
   ],
   "source": [
    "m = profitAfterTax.mean()\n",
    "m\n",
    "goodMonth=profitAfterTax[profitAfterTax>m]\n",
    "print(goodMonth)"
   ]
  },
  {
   "cell_type": "code",
   "execution_count": 12,
   "metadata": {},
   "outputs": [
    {
     "name": "stdout",
     "output_type": "stream",
     "text": [
      "[ 1337.973 -2595.453 -2040.017  -419.944 -1567.055   461.72 ]\n"
     ]
    }
   ],
   "source": [
    "badMonth = profitAfterTax[profitAfterTax<m]\n",
    "print(badMonth)"
   ]
  },
  {
   "cell_type": "code",
   "execution_count": 19,
   "metadata": {},
   "outputs": [
    {
     "name": "stdout",
     "output_type": "stream",
     "text": [
      "[False False False False False False False False False False False  True]\n"
     ]
    }
   ],
   "source": [
    "maxVal = profitAfterTax.max()\n",
    "bestMonth = profitAfterTax == maxVal \n",
    "print(bestMonth)"
   ]
  },
  {
   "cell_type": "code",
   "execution_count": 20,
   "metadata": {},
   "outputs": [
    {
     "name": "stdout",
     "output_type": "stream",
     "text": [
      "[False False  True False False False False False False False False False]\n"
     ]
    }
   ],
   "source": [
    "worstMonth = profitAfterTax == profitAfterTax.min()\n",
    "print(worstMonth)"
   ]
  },
  {
   "cell_type": "code",
   "execution_count": null,
   "metadata": {},
   "outputs": [],
   "source": []
  }
 ],
 "metadata": {
  "kernelspec": {
   "display_name": "Python 3",
   "language": "python",
   "name": "python3"
  },
  "language_info": {
   "codemirror_mode": {
    "name": "ipython",
    "version": 3
   },
   "file_extension": ".py",
   "mimetype": "text/x-python",
   "name": "python",
   "nbconvert_exporter": "python",
   "pygments_lexer": "ipython3",
   "version": "3.7.1"
  }
 },
 "nbformat": 4,
 "nbformat_minor": 2
}
